{
 "cells": [
  {
   "cell_type": "code",
   "execution_count": 22,
   "id": "c7f63eca",
   "metadata": {},
   "outputs": [],
   "source": [
    "import numpy as np\n",
    "import pandas as pd\n",
    "import seaborn as sns\n",
    "import matplotlib.pyplot as plt\n",
    "import scipy.stats as stats\n",
    "import statsmodels.formula.api as smf\n",
    "import csv"
   ]
  },
  {
   "cell_type": "code",
   "execution_count": 3,
   "id": "14bb35a2",
   "metadata": {},
   "outputs": [],
   "source": [
    "###1. Load data:"
   ]
  },
  {
   "cell_type": "code",
   "execution_count": 31,
   "id": "a4708175",
   "metadata": {},
   "outputs": [],
   "source": [
    "df = pd.read_csv(\"National Universities Rankings_CLEANED.csv\")"
   ]
  },
  {
   "cell_type": "code",
   "execution_count": 32,
   "id": "264b5065",
   "metadata": {},
   "outputs": [
    {
     "name": "stdout",
     "output_type": "stream",
     "text": [
      "   index                   name       location  rank  \\\n",
      "0      0   Princeton University  Princeton, NJ     1   \n",
      "1      1     Harvard University  Cambridge, MA     2   \n",
      "2      2  University of Chicago    Chicago, IL     3   \n",
      "3      3        Yale University  New Haven, CT     3   \n",
      "4      4    Columbia University   New York, NY     5   \n",
      "\n",
      "                                         description  tuition_and_fees  \\\n",
      "0  Princeton, the fourth-oldest college in the Un...             45320   \n",
      "1  Harvard is located in Cambridge, Massachusetts...             47074   \n",
      "2  The University of Chicago, situated in Chicago...             52491   \n",
      "3  Yale University, located in New Haven, Connect...             49480   \n",
      "4  Columbia University, located in Manhattan's Mo...             55056   \n",
      "\n",
      "   instate_tuition_and_fees  ug_enrollment  state_college  \n",
      "0                       NaN           5402              0  \n",
      "1                       NaN           6699              0  \n",
      "2                       NaN           5844              0  \n",
      "3                       NaN           5532              0  \n",
      "4                       NaN           6102              0  \n"
     ]
    }
   ],
   "source": [
    "print(df.head())"
   ]
  },
  {
   "cell_type": "code",
   "execution_count": 33,
   "id": "68498698",
   "metadata": {},
   "outputs": [
    {
     "name": "stdout",
     "output_type": "stream",
     "text": [
      "Index(['index', 'name', 'location', 'rank', 'description', 'tuition_and_fees',\n",
      "       'instate_tuition_and_fees', 'ug_enrollment', 'state_college'],\n",
      "      dtype='object')\n"
     ]
    }
   ],
   "source": [
    "print(df.columns)"
   ]
  },
  {
   "cell_type": "code",
   "execution_count": null,
   "id": "49527022",
   "metadata": {},
   "outputs": [],
   "source": [
    "###1.2) Variables of Analysis:"
   ]
  },
  {
   "cell_type": "code",
   "execution_count": null,
   "id": "7c596462",
   "metadata": {},
   "outputs": [],
   "source": [
    "###I will be using the undergrad enrollment and tuition and fees variables as the predictor (independent) variables, and the \n",
    "###rank as the response (dependent) variable for my analysis. The predictor variables represent the number of students enrolled\n",
    "###as an undergraduate and how much each enrolled student is approximately paying for a university's resources and facilities."
   ]
  },
  {
   "cell_type": "code",
   "execution_count": null,
   "id": "b530fbd6",
   "metadata": {},
   "outputs": [],
   "source": [
    "###1.3) Articulate Research Questions:"
   ]
  },
  {
   "cell_type": "code",
   "execution_count": null,
   "id": "1b8cc25e",
   "metadata": {},
   "outputs": [],
   "source": [
    "###The predictor variables might predict the response variable because the rank will be determined on attendance and cost for\n",
    "###attendance. I am expecting a negative relationship because if the higher the tuition and fees are, the lower the university\n",
    "###rank will be. This will mean that there will be less students willing to enroll in the universities that have expensive\n",
    "###tuition and fees, and select classes for those universities may not operate with enough students registered in which there\n",
    "###would possibly be no jobs for professors who do not have a class to teach for an upcoming semester."
   ]
  },
  {
   "cell_type": "code",
   "execution_count": null,
   "id": "f3b5af12",
   "metadata": {},
   "outputs": [],
   "source": [
    "###1.4) Univariate plots and details:"
   ]
  },
  {
   "cell_type": "code",
   "execution_count": 34,
   "id": "224ac9b8",
   "metadata": {},
   "outputs": [
    {
     "data": {
      "text/html": [
       "<div>\n",
       "<style scoped>\n",
       "    .dataframe tbody tr th:only-of-type {\n",
       "        vertical-align: middle;\n",
       "    }\n",
       "\n",
       "    .dataframe tbody tr th {\n",
       "        vertical-align: top;\n",
       "    }\n",
       "\n",
       "    .dataframe thead th {\n",
       "        text-align: right;\n",
       "    }\n",
       "</style>\n",
       "<table border=\"1\" class=\"dataframe\">\n",
       "  <thead>\n",
       "    <tr style=\"text-align: right;\">\n",
       "      <th></th>\n",
       "      <th>index</th>\n",
       "      <th>name</th>\n",
       "      <th>location</th>\n",
       "      <th>rank</th>\n",
       "      <th>description</th>\n",
       "      <th>tuition_and_fees</th>\n",
       "      <th>instate_tuition_and_fees</th>\n",
       "      <th>ug_enrollment</th>\n",
       "      <th>state_college</th>\n",
       "    </tr>\n",
       "  </thead>\n",
       "  <tbody>\n",
       "    <tr>\n",
       "      <th>0</th>\n",
       "      <td>0</td>\n",
       "      <td>Princeton University</td>\n",
       "      <td>Princeton, NJ</td>\n",
       "      <td>1</td>\n",
       "      <td>Princeton, the fourth-oldest college in the Un...</td>\n",
       "      <td>45320</td>\n",
       "      <td>NaN</td>\n",
       "      <td>5402</td>\n",
       "      <td>0</td>\n",
       "    </tr>\n",
       "    <tr>\n",
       "      <th>1</th>\n",
       "      <td>1</td>\n",
       "      <td>Harvard University</td>\n",
       "      <td>Cambridge, MA</td>\n",
       "      <td>2</td>\n",
       "      <td>Harvard is located in Cambridge, Massachusetts...</td>\n",
       "      <td>47074</td>\n",
       "      <td>NaN</td>\n",
       "      <td>6699</td>\n",
       "      <td>0</td>\n",
       "    </tr>\n",
       "    <tr>\n",
       "      <th>2</th>\n",
       "      <td>2</td>\n",
       "      <td>University of Chicago</td>\n",
       "      <td>Chicago, IL</td>\n",
       "      <td>3</td>\n",
       "      <td>The University of Chicago, situated in Chicago...</td>\n",
       "      <td>52491</td>\n",
       "      <td>NaN</td>\n",
       "      <td>5844</td>\n",
       "      <td>0</td>\n",
       "    </tr>\n",
       "    <tr>\n",
       "      <th>3</th>\n",
       "      <td>3</td>\n",
       "      <td>Yale University</td>\n",
       "      <td>New Haven, CT</td>\n",
       "      <td>3</td>\n",
       "      <td>Yale University, located in New Haven, Connect...</td>\n",
       "      <td>49480</td>\n",
       "      <td>NaN</td>\n",
       "      <td>5532</td>\n",
       "      <td>0</td>\n",
       "    </tr>\n",
       "    <tr>\n",
       "      <th>4</th>\n",
       "      <td>4</td>\n",
       "      <td>Columbia University</td>\n",
       "      <td>New York, NY</td>\n",
       "      <td>5</td>\n",
       "      <td>Columbia University, located in Manhattan's Mo...</td>\n",
       "      <td>55056</td>\n",
       "      <td>NaN</td>\n",
       "      <td>6102</td>\n",
       "      <td>0</td>\n",
       "    </tr>\n",
       "  </tbody>\n",
       "</table>\n",
       "</div>"
      ],
      "text/plain": [
       "   index                   name       location  rank  \\\n",
       "0      0   Princeton University  Princeton, NJ     1   \n",
       "1      1     Harvard University  Cambridge, MA     2   \n",
       "2      2  University of Chicago    Chicago, IL     3   \n",
       "3      3        Yale University  New Haven, CT     3   \n",
       "4      4    Columbia University   New York, NY     5   \n",
       "\n",
       "                                         description  tuition_and_fees  \\\n",
       "0  Princeton, the fourth-oldest college in the Un...             45320   \n",
       "1  Harvard is located in Cambridge, Massachusetts...             47074   \n",
       "2  The University of Chicago, situated in Chicago...             52491   \n",
       "3  Yale University, located in New Haven, Connect...             49480   \n",
       "4  Columbia University, located in Manhattan's Mo...             55056   \n",
       "\n",
       "   instate_tuition_and_fees  ug_enrollment  state_college  \n",
       "0                       NaN           5402              0  \n",
       "1                       NaN           6699              0  \n",
       "2                       NaN           5844              0  \n",
       "3                       NaN           5532              0  \n",
       "4                       NaN           6102              0  "
      ]
     },
     "execution_count": 34,
     "metadata": {},
     "output_type": "execute_result"
    }
   ],
   "source": [
    "df.head()"
   ]
  },
  {
   "cell_type": "code",
   "execution_count": 114,
   "id": "2dbd21f2",
   "metadata": {},
   "outputs": [
    {
     "name": "stdout",
     "output_type": "stream",
     "text": [
      "14946.619047619048\n"
     ]
    }
   ],
   "source": [
    "print(df[\"ug_enrollment\"].mean())"
   ]
  },
  {
   "cell_type": "code",
   "execution_count": 115,
   "id": "89a7161a",
   "metadata": {},
   "outputs": [
    {
     "name": "stdout",
     "output_type": "stream",
     "text": [
      "33769.246753246756\n"
     ]
    }
   ],
   "source": [
    "print(df[\"tuition_and_fees\"].mean())"
   ]
  },
  {
   "cell_type": "code",
   "execution_count": null,
   "id": "a12f2614",
   "metadata": {},
   "outputs": [],
   "source": [
    "###Unlog-transformed undergraduate enrollment variable:"
   ]
  },
  {
   "cell_type": "code",
   "execution_count": 35,
   "id": "30378667",
   "metadata": {},
   "outputs": [
    {
     "data": {
      "text/plain": [
       "<AxesSubplot:xlabel='ug_enrollment', ylabel='Count'>"
      ]
     },
     "execution_count": 35,
     "metadata": {},
     "output_type": "execute_result"
    },
    {
     "data": {
      "image/png": "[encoded data removed]",
      "text/plain": [
       "<Figure size 432x288 with 1 Axes>"
      ]
     },
     "metadata": {
      "needs_background": "light"
     },
     "output_type": "display_data"
    }
   ],
   "source": [
    "sns.histplot(x = \"ug_enrollment\", data = df)"
   ]
  },
  {
   "cell_type": "code",
   "execution_count": null,
   "id": "62620906",
   "metadata": {},
   "outputs": [],
   "source": [
    "###The undergrad enrollment variable is not roughly distributed as a normal distribution, but a uniform distribution. \n",
    "###However this variable can be log transformed."
   ]
  },
  {
   "cell_type": "code",
   "execution_count": 36,
   "id": "17fbc043",
   "metadata": {},
   "outputs": [],
   "source": [
    "df['ug_enrollment'] = df['ug_enrollment']"
   ]
  },
  {
   "cell_type": "code",
   "execution_count": 37,
   "id": "35365666",
   "metadata": {},
   "outputs": [],
   "source": [
    "df['logug_enrollment'] = np.log(df['ug_enrollment'])"
   ]
  },
  {
   "cell_type": "code",
   "execution_count": 38,
   "id": "b2332594",
   "metadata": {},
   "outputs": [],
   "source": [
    "df.to_csv('transformed_rank.csv', index = False)"
   ]
  },
  {
   "cell_type": "code",
   "execution_count": 40,
   "id": "4179720a",
   "metadata": {},
   "outputs": [],
   "source": [
    "newdata = pd.read_csv(\"transformed_rank.csv\")"
   ]
  },
  {
   "cell_type": "code",
   "execution_count": null,
   "id": "8cdf98fc",
   "metadata": {},
   "outputs": [],
   "source": [
    "###Log-transformed undergrad enrollment variable:"
   ]
  },
  {
   "cell_type": "code",
   "execution_count": 41,
   "id": "69a8a026",
   "metadata": {},
   "outputs": [
    {
     "data": {
      "text/plain": [
       "<AxesSubplot:xlabel='logug_enrollment', ylabel='Count'>"
      ]
     },
     "execution_count": 41,
     "metadata": {},
     "output_type": "execute_result"
    },
    {
     "data": {
      "image/png": "[encoded data removed]",
      "text/plain": [
       "<Figure size 432x288 with 1 Axes>"
      ]
     },
     "metadata": {
      "needs_background": "light"
     },
     "output_type": "display_data"
    }
   ],
   "source": [
    "sns.histplot(x = \"logug_enrollment\", data = newdata)"
   ]
  },
  {
   "cell_type": "code",
   "execution_count": null,
   "id": "31a8d5bd",
   "metadata": {},
   "outputs": [],
   "source": [
    "###Unlog-transformed tuition and fees variable:"
   ]
  },
  {
   "cell_type": "code",
   "execution_count": 47,
   "id": "969de453",
   "metadata": {},
   "outputs": [
    {
     "data": {
      "text/plain": [
       "<AxesSubplot:xlabel='tuition_and_fees', ylabel='Count'>"
      ]
     },
     "execution_count": 47,
     "metadata": {},
     "output_type": "execute_result"
    },
    {
     "data": {
      "image/png": "[encoded data removed]",
      "text/plain": [
       "<Figure size 432x288 with 1 Axes>"
      ]
     },
     "metadata": {
      "needs_background": "light"
     },
     "output_type": "display_data"
    }
   ],
   "source": [
    "sns.histplot(x = \"tuition_and_fees\", data = newdata)"
   ]
  },
  {
   "cell_type": "code",
   "execution_count": null,
   "id": "fe397e86",
   "metadata": {},
   "outputs": [],
   "source": [
    "###The tuition and fees variable is not roughly distributed as a normal distribution, but a uniform distribution. However, this\n",
    "###variable can be log transformed."
   ]
  },
  {
   "cell_type": "code",
   "execution_count": 42,
   "id": "8efa171b",
   "metadata": {},
   "outputs": [],
   "source": [
    "df['logtuition_and_fees'] = np.log(df['tuition_and_fees'])"
   ]
  },
  {
   "cell_type": "code",
   "execution_count": 44,
   "id": "a5e1281f",
   "metadata": {},
   "outputs": [],
   "source": [
    "df.to_csv('transformed_rank.csv', index = False)"
   ]
  },
  {
   "cell_type": "code",
   "execution_count": 45,
   "id": "1f987790",
   "metadata": {},
   "outputs": [],
   "source": [
    "newdata = pd.read_csv(\"transformed_rank.csv\")"
   ]
  },
  {
   "cell_type": "code",
   "execution_count": null,
   "id": "14a239bf",
   "metadata": {},
   "outputs": [],
   "source": [
    "###Log-transformed tuition and fees variable:"
   ]
  },
  {
   "cell_type": "code",
   "execution_count": 46,
   "id": "652221cd",
   "metadata": {},
   "outputs": [
    {
     "data": {
      "text/plain": [
       "<AxesSubplot:xlabel='logtuition_and_fees', ylabel='Count'>"
      ]
     },
     "execution_count": 46,
     "metadata": {},
     "output_type": "execute_result"
    },
    {
     "data": {
      "image/png": "[encoded data removed]",
      "text/plain": [
       "<Figure size 432x288 with 1 Axes>"
      ]
     },
     "metadata": {
      "needs_background": "light"
     },
     "output_type": "display_data"
    }
   ],
   "source": [
    "sns.histplot(x = \"logtuition_and_fees\", data = newdata)"
   ]
  },
  {
   "cell_type": "code",
   "execution_count": 49,
   "id": "6b9e7ae0",
   "metadata": {},
   "outputs": [
    {
     "data": {
      "text/plain": [
       "<AxesSubplot:xlabel='rank', ylabel='Count'>"
      ]
     },
     "execution_count": 49,
     "metadata": {},
     "output_type": "execute_result"
    },
    {
     "data": {
      "image/png": "[encoded data removed]",
      "text/plain": [
       "<Figure size 432x288 with 1 Axes>"
      ]
     },
     "metadata": {
      "needs_background": "light"
     },
     "output_type": "display_data"
    }
   ],
   "source": [
    "sns.histplot(x = \"rank\", data = df)"
   ]
  },
  {
   "cell_type": "code",
   "execution_count": null,
   "id": "98703214",
   "metadata": {},
   "outputs": [],
   "source": [
    "###The rank variable is not roughly distributed as a normal distribution, but close to a uniform distribution. This variable \n",
    "###does not need to be log transformed as the values are clear to see."
   ]
  },
  {
   "cell_type": "code",
   "execution_count": null,
   "id": "d9b67217",
   "metadata": {},
   "outputs": [],
   "source": [
    "###1.5) Multivariate Plots:"
   ]
  },
  {
   "cell_type": "code",
   "execution_count": 50,
   "id": "2239691a",
   "metadata": {},
   "outputs": [
    {
     "data": {
      "text/plain": [
       "<AxesSubplot:xlabel='ug_enrollment', ylabel='rank'>"
      ]
     },
     "execution_count": 50,
     "metadata": {},
     "output_type": "execute_result"
    },
    {
     "data": {
      "image/png": "[encoded data removed]",
      "text/plain": [
       "<Figure size 432x288 with 1 Axes>"
      ]
     },
     "metadata": {
      "needs_background": "light"
     },
     "output_type": "display_data"
    }
   ],
   "source": [
    "sns.scatterplot(x = \"ug_enrollment\", y = \"rank\", data = newdata)"
   ]
  },
  {
   "cell_type": "code",
   "execution_count": 51,
   "id": "26b02172",
   "metadata": {},
   "outputs": [
    {
     "data": {
      "text/plain": [
       "<AxesSubplot:xlabel='tuition_and_fees', ylabel='rank'>"
      ]
     },
     "execution_count": 51,
     "metadata": {},
     "output_type": "execute_result"
    },
    {
     "data": {
      "image/png": "[encoded data removed]",
      "text/plain": [
       "<Figure size 432x288 with 1 Axes>"
      ]
     },
     "metadata": {
      "needs_background": "light"
     },
     "output_type": "display_data"
    }
   ],
   "source": [
    "sns.scatterplot(x = \"tuition_and_fees\", y = \"rank\", data = newdata)"
   ]
  },
  {
   "cell_type": "code",
   "execution_count": 52,
   "id": "44b7ead9",
   "metadata": {},
   "outputs": [
    {
     "data": {
      "text/plain": [
       "<AxesSubplot:xlabel='ug_enrollment', ylabel='tuition_and_fees'>"
      ]
     },
     "execution_count": 52,
     "metadata": {},
     "output_type": "execute_result"
    },
    {
     "data": {
      "image/png": "[encoded data removed]",
      "text/plain": [
       "<Figure size 432x288 with 1 Axes>"
      ]
     },
     "metadata": {
      "needs_background": "light"
     },
     "output_type": "display_data"
    }
   ],
   "source": [
    "sns.scatterplot(x = \"ug_enrollment\", y = \"tuition_and_fees\", data = newdata)"
   ]
  },
  {
   "cell_type": "code",
   "execution_count": null,
   "id": "4e079ec9",
   "metadata": {},
   "outputs": [],
   "source": [
    "###The scatterplots of each predictor variable and the response variable are almost directly related but they do not pose a \n",
    "###problem because they make sense in conveying the interval of undergraduates attending more lower ranked schools at a cheaper\n",
    "###cost."
   ]
  },
  {
   "cell_type": "code",
   "execution_count": null,
   "id": "9237544b",
   "metadata": {},
   "outputs": [],
   "source": [
    "###1.6) Transformations for Model-Fitting:"
   ]
  },
  {
   "cell_type": "code",
   "execution_count": null,
   "id": "e58d4c02",
   "metadata": {},
   "outputs": [],
   "source": [
    "###Both the tuition and fees and undergrad enrollment variables should be transformed which are log-transformed above as\n",
    "###logug_enrollment and logtuition_and_fees"
   ]
  },
  {
   "cell_type": "code",
   "execution_count": 89,
   "id": "22d1b6d1",
   "metadata": {},
   "outputs": [],
   "source": [
    "newdata[\"zug_enrollment\"] = (newdata[\"ug_enrollment\"] - newdata[\"ug_enrollment\"].mean())/newdata[\"ug_enrollment\"].std()"
   ]
  },
  {
   "cell_type": "code",
   "execution_count": 88,
   "id": "c3cafd25",
   "metadata": {},
   "outputs": [],
   "source": [
    "newdata[\"ztuition_and_fees\"] = (newdata[\"tuition_and_fees\"] - newdata[\"tuition_and_fees\"].mean())/newdata[\"tuition_and_fees\"].std()"
   ]
  },
  {
   "cell_type": "code",
   "execution_count": null,
   "id": "49de820a",
   "metadata": {},
   "outputs": [],
   "source": [
    "###2. Model Fitting"
   ]
  },
  {
   "cell_type": "code",
   "execution_count": 90,
   "id": "b9d89d6d",
   "metadata": {},
   "outputs": [],
   "source": [
    "MODEL = smf.ols(\"rank ~ 1 + zug_enrollment + ztuition_and_fees\", data = newdata).fit()"
   ]
  },
  {
   "cell_type": "code",
   "execution_count": 91,
   "id": "33e0c6b2",
   "metadata": {},
   "outputs": [
    {
     "name": "stdout",
     "output_type": "stream",
     "text": [
      "Intercept            113.982684\n",
      "zug_enrollment       -24.572067\n",
      "ztuition_and_fees    -56.679212\n",
      "dtype: float64\n",
      "Intercept            2.655217\n",
      "zug_enrollment       2.884612\n",
      "ztuition_and_fees    2.884612\n",
      "dtype: float64\n"
     ]
    }
   ],
   "source": [
    "print(MODEL.params)\n",
    "print(MODEL.bse)"
   ]
  },
  {
   "cell_type": "code",
   "execution_count": null,
   "id": "c63ddd41",
   "metadata": {},
   "outputs": [],
   "source": [
    "###The estimates effects are negative compared to the standard errors in which they are not large in comparison to the standard\n",
    "###errors. In magnitude, regard of positive or negative, the largest slope is the tuition and fees from the estimate effect."
   ]
  },
  {
   "cell_type": "code",
   "execution_count": null,
   "id": "63602150",
   "metadata": {},
   "outputs": [],
   "source": [
    "###3. Inference and Interpretation:"
   ]
  },
  {
   "cell_type": "code",
   "execution_count": 92,
   "id": "cc8286c5",
   "metadata": {},
   "outputs": [],
   "source": [
    "newdata[\"residuals\"] = MODEL.resid"
   ]
  },
  {
   "cell_type": "code",
   "execution_count": 93,
   "id": "62e0b51b",
   "metadata": {},
   "outputs": [],
   "source": [
    "newdata[\"model_predictions\"] = MODEL.predict()"
   ]
  },
  {
   "cell_type": "code",
   "execution_count": 94,
   "id": "f699e022",
   "metadata": {},
   "outputs": [
    {
     "name": "stdout",
     "output_type": "stream",
     "text": [
      "0     -74.308706\n",
      "1     -61.051326\n",
      "2     -33.495835\n",
      "3     -50.086679\n",
      "4     -17.380586\n",
      "         ...    \n",
      "226    11.829837\n",
      "227    63.336636\n",
      "228    44.203923\n",
      "229     5.660999\n",
      "230    56.237185\n",
      "Length: 231, dtype: float64\n",
      "[ 75.30870583  63.05132629  36.49583541  53.08667853  22.38058622\n",
      "  57.79078084  60.83979661  41.1076611   32.88252005  45.88016257\n",
      "  45.61746218  73.64748149  39.37403238  40.53998225  24.90669126\n",
      "  86.16466315  45.19491169  70.33765398  46.97416328  58.02388226\n",
      "  42.74517024  50.97082395   7.79658891  37.45412619  49.66053481\n",
      "  50.29810471  38.10517974  31.76453887  55.529653   105.14621667\n",
      "  35.00917164  92.19833714  47.80375397  46.51672393 120.72220448\n",
      "   8.35203649  72.3473065   64.28309161  20.25491678  43.72117074\n",
      "  45.37533822  42.39783333  60.04062694  60.26135349  46.07687379\n",
      "  46.77512356  84.06269282  53.13769948  80.55705168  54.87800128\n",
      "  94.15311375  50.74169769  61.32394506  67.36694175  71.13195509\n",
      "  26.99494671  46.41685947 105.37251087  51.84715595  56.75870452\n",
      " 106.31915579  54.1100988   93.95797911  94.01681251  69.05231555\n",
      " 111.97528744 105.98965886 228.48292899 125.9093722   85.97760584\n",
      "  72.34300488  62.65106552 130.43064691  71.94120972  93.72877784\n",
      "  61.26179509 115.05899269 112.89331844 122.10644014  76.89592935\n",
      " 118.51430464 132.43885742  29.6955681   81.153938   122.65351133\n",
      " 178.51685184  57.03049497 104.58638493  68.99059666  70.41840535\n",
      " 114.15772714 120.62596064 131.51276995  79.03673381  88.47147461\n",
      "  24.91244883  92.89903552 149.13791683 124.05578755  82.85048068\n",
      " 229.54827713 141.86354922  81.47226638 110.3669579  102.70831758\n",
      " 113.24356606  94.13625106 130.78662601  76.45286574 103.16564876\n",
      " 143.64645137  90.80199985 125.5802626  157.77692022 162.18541925\n",
      "  83.04114487 128.87744493 150.19043693 105.65105765 123.18996194\n",
      "  71.25402256 145.28582306 103.5318958   94.44632817  91.30253503\n",
      " 128.0604508  179.42030811  90.04006927  95.28307424  76.01676562\n",
      " 120.35755408  70.94439712  88.65350153 135.12389737 157.04718101\n",
      " 123.56548405 130.71040216 148.25649808 153.40003598 153.07546088\n",
      " 129.66300627 167.01042111 101.37208978 117.45436475 134.50360438\n",
      " 136.05534524 160.25531993 162.57315761 152.16397805 179.45065959\n",
      " 113.12909748 173.77811608 136.97723851 167.20244661 101.6946556\n",
      " 146.038298   109.76795808 142.36113353 114.04060186 206.88392317\n",
      " 171.47627977 142.92783109 163.05193963 123.48640903 172.85296674\n",
      " 172.96308325  81.05998255 104.20507511 159.80119263 116.93400854\n",
      " 177.39110444 105.21249753 189.34111132 160.24828776 217.87439623\n",
      " 154.08586625 162.83265172 180.0347858  181.62978776 138.23835921\n",
      "  81.55346272 166.71341179 176.76563187 122.66698605 149.62275068\n",
      " 161.43466694  92.51438743 174.95912133 194.40611498  80.95822279\n",
      " 167.35760176 126.26216168 115.34832842 196.74858282 112.06977863\n",
      " 148.01597033 118.58216347 187.45141097 204.02658444 139.46979902\n",
      " 174.42848238 156.89772774 154.29177782 165.61965575 240.99327991\n",
      " 190.58173895 167.41918952 200.17035367 247.79565051 152.42072556\n",
      " 173.38835709 137.52079159 180.82164179 210.57849976 181.01269468\n",
      " 166.33088456 170.13165325 153.41947787 176.94494115 149.37588778\n",
      " 186.04840147 163.30212907 185.66059894 156.95237721 173.20569324\n",
      " 127.82799028 208.17016305 156.66336439 175.79607685 214.33900051\n",
      " 163.76281548]\n"
     ]
    }
   ],
   "source": [
    "print(MODEL.resid)\n",
    "print(MODEL.predict())"
   ]
  },
  {
   "cell_type": "code",
   "execution_count": 95,
   "id": "8959361a",
   "metadata": {},
   "outputs": [
    {
     "data": {
      "text/plain": [
       "<AxesSubplot:xlabel='residuals', ylabel='Count'>"
      ]
     },
     "execution_count": 95,
     "metadata": {},
     "output_type": "execute_result"
    },
    {
     "data": {
      "image/png": "[encoded data removed]",
      "text/plain": [
       "<Figure size 432x288 with 1 Axes>"
      ]
     },
     "metadata": {
      "needs_background": "light"
     },
     "output_type": "display_data"
    }
   ],
   "source": [
    "sns.histplot(x = \"residuals\", data = newdata)"
   ]
  },
  {
   "cell_type": "code",
   "execution_count": 63,
   "id": "a41db9cb",
   "metadata": {},
   "outputs": [
    {
     "data": {
      "text/plain": [
       "<AxesSubplot:xlabel='model_predictions', ylabel='residuals'>"
      ]
     },
     "execution_count": 63,
     "metadata": {},
     "output_type": "execute_result"
    },
    {
     "data": {
      "image/png": "[encoded data removed]",
      "text/plain": [
       "<Figure size 432x288 with 1 Axes>"
      ]
     },
     "metadata": {
      "needs_background": "light"
     },
     "output_type": "display_data"
    }
   ],
   "source": [
    "sns.scatterplot(x = \"model_predictions\", y = \"residuals\", data = newdata)"
   ]
  },
  {
   "cell_type": "code",
   "execution_count": null,
   "id": "3b9fcf9c",
   "metadata": {},
   "outputs": [],
   "source": [
    "###There are strong patterns within the -50 to 50 intervals that could indicate undergraduate students attending universities\n",
    "###ranked 50 and above"
   ]
  },
  {
   "cell_type": "code",
   "execution_count": null,
   "id": "bb32527e",
   "metadata": {},
   "outputs": [],
   "source": [
    "###3.2) Report null hypothesis significance tests for parameters:"
   ]
  },
  {
   "cell_type": "code",
   "execution_count": 64,
   "id": "a65f7f27",
   "metadata": {},
   "outputs": [
    {
     "data": {
      "text/html": [
       "<table class=\"simpletable\">\n",
       "<tr>\n",
       "          <td></td>            <th>coef</th>     <th>std err</th>      <th>t</th>      <th>P>|t|</th>  <th>[0.025</th>    <th>0.975]</th>  \n",
       "</tr>\n",
       "<tr>\n",
       "  <th>Intercept</th>        <td>  326.6666</td> <td>   11.585</td> <td>   28.197</td> <td> 0.000</td> <td>  303.839</td> <td>  349.495</td>\n",
       "</tr>\n",
       "<tr>\n",
       "  <th>ug_enrollment</th>    <td>   -0.0023</td> <td>    0.000</td> <td>   -8.518</td> <td> 0.000</td> <td>   -0.003</td> <td>   -0.002</td>\n",
       "</tr>\n",
       "<tr>\n",
       "  <th>tuition_and_fees</th> <td>   -0.0053</td> <td>    0.000</td> <td>  -19.649</td> <td> 0.000</td> <td>   -0.006</td> <td>   -0.005</td>\n",
       "</tr>\n",
       "</table>"
      ],
      "text/plain": [
       "<class 'statsmodels.iolib.table.SimpleTable'>"
      ]
     },
     "execution_count": 64,
     "metadata": {},
     "output_type": "execute_result"
    }
   ],
   "source": [
    "MODEL.summary().tables[1]"
   ]
  },
  {
   "cell_type": "code",
   "execution_count": 65,
   "id": "5eedafb8",
   "metadata": {},
   "outputs": [
    {
     "data": {
      "text/plain": [
       "Intercept           2.838781e-76\n",
       "ug_enrollment       2.215510e-15\n",
       "tuition_and_fees    5.880577e-51\n",
       "dtype: float64"
      ]
     },
     "execution_count": 65,
     "metadata": {},
     "output_type": "execute_result"
    }
   ],
   "source": [
    "MODEL.pvalues"
   ]
  },
  {
   "cell_type": "code",
   "execution_count": null,
   "id": "2a78ad1a",
   "metadata": {},
   "outputs": [],
   "source": [
    "###The slope parameters for ug enrollment and tuition and fees variables are 2.215510e-15 and 5.880577e-51 respectively, and \n",
    "###was statistically significant from zero at the p < .05 level"
   ]
  },
  {
   "cell_type": "code",
   "execution_count": null,
   "id": "cf1060c4",
   "metadata": {},
   "outputs": [],
   "source": [
    "###3. Model comparison"
   ]
  },
  {
   "cell_type": "code",
   "execution_count": 66,
   "id": "1b53887e",
   "metadata": {},
   "outputs": [],
   "source": [
    "MODEL_null = smf.ols(\"rank ~ 1\", data = newdata).fit()"
   ]
  },
  {
   "cell_type": "code",
   "execution_count": 71,
   "id": "aae6cd2b",
   "metadata": {},
   "outputs": [
    {
     "data": {
      "text/plain": [
       "2592.1365472381267"
      ]
     },
     "execution_count": 71,
     "metadata": {},
     "output_type": "execute_result"
    }
   ],
   "source": [
    "MODEL_null.aic"
   ]
  },
  {
   "cell_type": "code",
   "execution_count": 67,
   "id": "2911eef0",
   "metadata": {},
   "outputs": [
    {
     "data": {
      "text/plain": [
       "2366.883694792466"
      ]
     },
     "execution_count": 67,
     "metadata": {},
     "output_type": "execute_result"
    }
   ],
   "source": [
    "MODEL.aic"
   ]
  },
  {
   "cell_type": "code",
   "execution_count": 68,
   "id": "694e2480",
   "metadata": {},
   "outputs": [
    {
     "data": {
      "text/plain": [
       "<class 'statsmodels.stats.contrast.ContrastResults'>\n",
       "<F test: F=193.549189119037, p=7.326393039644206e-50, df_denom=228, df_num=2>"
      ]
     },
     "execution_count": 68,
     "metadata": {},
     "output_type": "execute_result"
    }
   ],
   "source": [
    "MODEL.f_test(\"(ug_enrollment = 0, tuition_and_fees = 0)\")"
   ]
  },
  {
   "cell_type": "code",
   "execution_count": null,
   "id": "76342f3e",
   "metadata": {},
   "outputs": [],
   "source": [
    "###An F-Test comparing the model with no predictor to a model with two predictors was statistically significant at the p < .05\n",
    "###level (F[2, 228]), indicating that the model with two predictors was a better model than the model with no predictors."
   ]
  },
  {
   "cell_type": "code",
   "execution_count": null,
   "id": "c5403048",
   "metadata": {},
   "outputs": [],
   "source": [
    "###4. Interpretation:"
   ]
  },
  {
   "cell_type": "code",
   "execution_count": 98,
   "id": "320dd2ac",
   "metadata": {},
   "outputs": [],
   "source": [
    "df['sdtuition_and_fees'] = np.exp(df['logtuition_and_fees'])"
   ]
  },
  {
   "cell_type": "code",
   "execution_count": 99,
   "id": "4cf62f8c",
   "metadata": {},
   "outputs": [],
   "source": [
    "df['sdug_enrollment'] = np.exp(df['logug_enrollment'])"
   ]
  },
  {
   "cell_type": "code",
   "execution_count": 101,
   "id": "3c6a9442",
   "metadata": {},
   "outputs": [
    {
     "name": "stdout",
     "output_type": "stream",
     "text": [
      "Intercept            113.982684\n",
      "zug_enrollment       -24.572067\n",
      "ztuition_and_fees    -56.679212\n",
      "dtype: float64\n"
     ]
    }
   ],
   "source": [
    "print(MODEL.params)"
   ]
  },
  {
   "cell_type": "code",
   "execution_count": 104,
   "id": "140ee3d7",
   "metadata": {},
   "outputs": [],
   "source": [
    "NEWMODEL = smf.ols(\"rank ~ 1 + sdtuition_and_fees + sdug_enrollment\", data = df).fit()"
   ]
  },
  {
   "cell_type": "code",
   "execution_count": 105,
   "id": "39c48639",
   "metadata": {},
   "outputs": [
    {
     "name": "stdout",
     "output_type": "stream",
     "text": [
      "Intercept             326.666562\n",
      "sdtuition_and_fees     -0.005269\n",
      "sdug_enrollment        -0.002325\n",
      "dtype: float64\n"
     ]
    }
   ],
   "source": [
    "print(NEWMODEL.params)"
   ]
  },
  {
   "cell_type": "code",
   "execution_count": null,
   "id": "7a45dce4",
   "metadata": {},
   "outputs": [],
   "source": [
    "###Intercept-predictor -> exp(result)"
   ]
  },
  {
   "cell_type": "code",
   "execution_count": null,
   "id": "a3d28701",
   "metadata": {},
   "outputs": [],
   "source": [
    "###For one standard deviation of tuition and fees (-0.005), the model predicts a change of approximately 2 ranks in the\n",
    "###university rankings"
   ]
  },
  {
   "cell_type": "code",
   "execution_count": null,
   "id": "f7fe3587",
   "metadata": {},
   "outputs": [],
   "source": [
    "###For one standard deviation of UG enrollment (-0.002), the model predicts a change of approximately 2 ranks in the \n",
    "###university rankings"
   ]
  },
  {
   "cell_type": "code",
   "execution_count": 110,
   "id": "9894e942",
   "metadata": {},
   "outputs": [],
   "source": [
    "sd = df['sdtuition_and_fees'] / 4"
   ]
  },
  {
   "cell_type": "code",
   "execution_count": 111,
   "id": "68f36220",
   "metadata": {},
   "outputs": [
    {
     "name": "stdout",
     "output_type": "stream",
     "text": [
      "0      11330.00\n",
      "1      11768.50\n",
      "2      13122.75\n",
      "3      12370.00\n",
      "4      13764.00\n",
      "         ...   \n",
      "226     4817.50\n",
      "227     6569.25\n",
      "228     5398.75\n",
      "229     4023.50\n",
      "230     4943.00\n",
      "Name: sdtuition_and_fees, Length: 231, dtype: float64\n"
     ]
    }
   ],
   "source": [
    "print(sd)"
   ]
  },
  {
   "cell_type": "code",
   "execution_count": 112,
   "id": "517cff19",
   "metadata": {},
   "outputs": [],
   "source": [
    "sd2 = df['sdug_enrollment'] / 4"
   ]
  },
  {
   "cell_type": "code",
   "execution_count": 113,
   "id": "0d295bbe",
   "metadata": {},
   "outputs": [
    {
     "name": "stdout",
     "output_type": "stream",
     "text": [
      "0      1350.50\n",
      "1      1674.75\n",
      "2      1461.00\n",
      "3      1383.00\n",
      "4      1525.50\n",
      "        ...   \n",
      "226    1823.75\n",
      "227    3392.25\n",
      "228    3987.75\n",
      "229    2960.00\n",
      "230    6314.75\n",
      "Name: sdug_enrollment, Length: 231, dtype: float64\n"
     ]
    }
   ],
   "source": [
    "print(sd2)"
   ]
  },
  {
   "cell_type": "code",
   "execution_count": null,
   "id": "f012c197",
   "metadata": {},
   "outputs": [],
   "source": [
    "###If you increased the UG enrollment by approximately 326.66 and decrease the tuition and fees by approximately 326.66, \n",
    "###the overall predicted change in the university rankings would be 2."
   ]
  },
  {
   "cell_type": "code",
   "execution_count": null,
   "id": "8ffd2bb2",
   "metadata": {},
   "outputs": [],
   "source": [
    "###Since the z-scores for the predictors are 2.884612 and the intercept is approximately 326.666562, the plus/minus uncertainty\n",
    "###when adding and subtracting 2, and add 5.769224 to have the final predicion be 332.435786 and 320.897338."
   ]
  },
  {
   "cell_type": "code",
   "execution_count": null,
   "id": "51c5dca7",
   "metadata": {},
   "outputs": [],
   "source": [
    "###exp(320.897338) is approximately 2.31 and exp(332.435786) is approximately 2.37 "
   ]
  },
  {
   "cell_type": "code",
   "execution_count": null,
   "id": "ae10eb72",
   "metadata": {},
   "outputs": [],
   "source": [
    "###In my model, as the tuition and fees increased, the undergraduate enrollment decreased, which was not surprising.\n",
    "###In my data, the average undergraduate enrollment for a ranked university is approximately 14,947 students and the average \n",
    "###cost for tuition and fees for a ranked university is approximately $33,769. For a university that ranks 1 standard devation\n",
    "###less than average, the model predicts a university, with a good amount of students, to be ranked 2 ranks below expected, \n",
    "###within a range of uncertainty with 0.884612 and 4."
   ]
  },
  {
   "cell_type": "code",
   "execution_count": null,
   "id": "67af08eb",
   "metadata": {},
   "outputs": [],
   "source": [
    "###This finding matters because some college students do not have the luxury of obtaining scholarships and financial aid to\n",
    "###pay for attending these prestigious schools, so they would need to find a university that is best suited for their budget.\n",
    "###Also, professors can use this finding to determine where work is needed with the number of undergrad enrollment students\n",
    "###within a university. This finding may alter the number of undergrad students planning to enroll in a high ranked university\n",
    "###by seeing the recorded tuition and fees it charges in comparison to lower ranked universities that can provide similar\n",
    "###educational topics within a major or minor."
   ]
  }
 ],
 "metadata": {
  "kernelspec": {
   "display_name": "Python 3 (ipykernel)",
   "language": "python",
   "name": "python3"
  },
  "language_info": {
   "codemirror_mode": {
    "name": "ipython",
    "version": 3
   },
   "file_extension": ".py",
   "mimetype": "text/x-python",
   "name": "python",
   "nbconvert_exporter": "python",
   "pygments_lexer": "ipython3",
   "version": "3.9.12"
  },
  "widgets": {
   "application/vnd.jupyter.widget-state+json": {
    "state": {},
    "version_major": 2,
    "version_minor": 0
   }
  }
 },
 "nbformat": 4,
 "nbformat_minor": 5
}
